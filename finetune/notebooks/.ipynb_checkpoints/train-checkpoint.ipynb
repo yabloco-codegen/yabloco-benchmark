{
 "cells": [
  {
   "cell_type": "code",
   "execution_count": 1,
   "id": "2d289538-c2c4-4872-b48a-e61b8de22926",
   "metadata": {},
   "outputs": [
    {
     "name": "stdout",
     "output_type": "stream",
     "text": [
      "Thu May 30 11:21:01 2024       \n",
      "+-----------------------------------------------------------------------------------------+\n",
      "| NVIDIA-SMI 550.76.01              Driver Version: 552.22         CUDA Version: 12.4     |\n",
      "|-----------------------------------------+------------------------+----------------------+\n",
      "| GPU  Name                 Persistence-M | Bus-Id          Disp.A | Volatile Uncorr. ECC |\n",
      "| Fan  Temp   Perf          Pwr:Usage/Cap |           Memory-Usage | GPU-Util  Compute M. |\n",
      "|                                         |                        |               MIG M. |\n",
      "|=========================================+========================+======================|\n",
      "|   0  NVIDIA GeForce RTX 4090        On  |   00000000:01:00.0  On |                  Off |\n",
      "|  0%   35C    P8             30W /  450W |    2595MiB /  24564MiB |      0%      Default |\n",
      "|                                         |                        |                  N/A |\n",
      "+-----------------------------------------+------------------------+----------------------+\n",
      "|   1  NVIDIA GeForce RTX 4090        On  |   00000000:02:00.0 Off |                  Off |\n",
      "|  0%   34C    P8             10W /  450W |       0MiB /  24564MiB |      0%      Default |\n",
      "|                                         |                        |                  N/A |\n",
      "+-----------------------------------------+------------------------+----------------------+\n",
      "                                                                                         \n",
      "+-----------------------------------------------------------------------------------------+\n",
      "| Processes:                                                                              |\n",
      "|  GPU   GI   CI        PID   Type   Process name                              GPU Memory |\n",
      "|        ID   ID                                                               Usage      |\n",
      "|=========================================================================================|\n",
      "|  No running processes found                                                             |\n",
      "+-----------------------------------------------------------------------------------------+\n"
     ]
    }
   ],
   "source": [
    "!nvidia-smi"
   ]
  },
  {
   "cell_type": "code",
   "execution_count": 1,
   "id": "68a64d56-c17d-4c82-baa9-14b6e81c517a",
   "metadata": {},
   "outputs": [],
   "source": [
    "# !pip install llama-recipes fastcore \"transformers!=4.38.*,!=4.39.*\" --extra-index-url https://download.pytorch.org/whl/test/cu121"
   ]
  },
  {
   "cell_type": "code",
   "execution_count": 2,
   "id": "aedf700c-e160-49da-978f-785e7e03066f",
   "metadata": {},
   "outputs": [
    {
     "name": "stdout",
     "output_type": "stream",
     "text": [
      "/notebooks/fsdp_qlora\n"
     ]
    },
    {
     "name": "stderr",
     "output_type": "stream",
     "text": [
      "/root/miniconda3/envs/unsloth_env/lib/python3.10/site-packages/IPython/core/magics/osm.py:417: UserWarning: This is now an optional IPython functionality, setting dhist requires you to install the `pickleshare` library.\n",
      "  self.shell.db['dhist'] = compress_dhist(dhist)[-100:]\n"
     ]
    }
   ],
   "source": [
    "%cd fsdp_qlora"
   ]
  },
  {
   "cell_type": "code",
   "execution_count": 4,
   "id": "e3817a4d",
   "metadata": {},
   "outputs": [
    {
     "name": "stdout",
     "output_type": "stream",
     "text": [
      "World size: 2\n",
      "Creating model 0\n",
      "Loading model 0\n",
      "Loading & Quantizing Model Shards: 100%|██████████| 3/3 [03:40<00:00, 73.44s/it]\n",
      "Rank 0: Model created: 0.664 GiB\n",
      "trainable params: 224,133,120 || all params: 13,240,161,280 || trainable%: 1.692827717578981\n",
      "Wrapping model w/ FSDP 0\n",
      "Rank 0: Wrapped model: 6.379 GiB\n",
      "Applying activation checkpointing 0\n",
      "Total Training Steps: 40\n",
      "Epoch 0, Loss nan, LR 1.00e-05: 100%|███████████| 40/40 [27:05<00:00, 41.80s/it]Finished training 0\n",
      "CUDA event elapsed time: 1647.2545 sec\n",
      "time_taken: 1647.2545                                                           \n",
      "Epoch 0, Loss nan, LR 1.00e-05: 100%|███████████| 40/40 [27:27<00:00, 41.80s/it]Rank 0: Before forward: 6.38 GiB\n",
      "Rank 0: After forward: 7.31 GiB\n",
      "Rank 0: After backward: 7.54 GiB\n",
      "Rank 0: Peak allocated memory: 6.27 GiB\n",
      "Rank 0: Peak reserved memory:  8.03 GiB\n",
      "Saving full model weights.\n",
      "Done 0\n",
      "Epoch 0, Loss nan, LR 1.00e-05: 100%|███████████| 40/40 [27:41<00:00, 41.54s/it]\n"
     ]
    }
   ],
   "source": [
    "# Assuming 2 GPUs, if different adjust `gradient_accumulation_steps` to make bs=32.\n",
    "!python yabloco_train.py \\\n",
    "--train_type qlora \\\n",
    "--model_name codellama/CodeLlama-13b-Instruct-hf \\\n",
    "--dataset yabloco_redis \\\n",
    "--project_name \"yabloco-fns\" \\\n",
    "--output_dir models/CodeLlama-13b-Instruct-redis-QLoRA-3 \\\n",
    "--batch_size 1 \\\n",
    "--context_length 512 \\\n",
    "--gradient_accumulation_steps 16 \\\n",
    "--sharding_strategy full_shard \\\n",
    "--use_gradient_checkpointing true \\\n",
    "--use_cpu_offload false \\\n",
    "--use_activation_cpu_offload false \\\n",
    "--save_model true \\\n",
    "--log_to wandb \\\n",
    "--reentrant_checkpointing true\n",
    "# --dataset_samples 10000 \\"
   ]
  },
  {
   "cell_type": "code",
   "execution_count": null,
   "id": "c76f5b48-4555-4be5-af9d-6e9c22d3016f",
   "metadata": {},
   "outputs": [],
   "source": []
  }
 ],
 "metadata": {
  "kernelspec": {
   "display_name": "Python 3 (ipykernel)",
   "language": "python",
   "name": "python3"
  },
  "language_info": {
   "codemirror_mode": {
    "name": "ipython",
    "version": 3
   },
   "file_extension": ".py",
   "mimetype": "text/x-python",
   "name": "python",
   "nbconvert_exporter": "python",
   "pygments_lexer": "ipython3",
   "version": "3.11.5"
  }
 },
 "nbformat": 4,
 "nbformat_minor": 5
}
