{
 "cells": [
  {
   "cell_type": "code",
   "execution_count": 1,
   "id": "d507b73d-abc3-4478-a04b-a27d2acfac00",
   "metadata": {},
   "outputs": [],
   "source": [
    "# !pip install git+https://github.com/huggingface/transformers.git@main accelerate\n",
    "# !pip install wandb\n",
    "# %run dependencies.ipynb\n",
    "# !pip -qq install -U bitsandbytes accelerate\n",
    "# !where python"
   ]
  },
  {
   "cell_type": "code",
   "execution_count": 1,
   "id": "1c7e14a5-96a9-4a03-92f7-86f1757b213c",
   "metadata": {},
   "outputs": [],
   "source": [
    "import json\n",
    "import os\n",
    "import random\n",
    "import re\n",
    "from datetime import datetime\n",
    "from functools import partial\n",
    "\n",
    "import accelerate\n",
    "import bitsandbytes as bnb\n",
    "import pandas as pd\n",
    "import torch\n",
    "\n",
    "from datasets import load_dataset,concatenate_datasets, load_from_disk, Dataset\n",
    "from peft import LoraConfig, get_peft_model, prepare_model_for_kbit_training, PeftModel\n",
    "from transformers import pipeline, LlamaForCausalLM, LlamaTokenizerFast, AutoTokenizer, Trainer, TrainingArguments, \\\n",
    "                         BitsAndBytesConfig, DataCollatorForLanguageModeling, TrainerCallback, AutoModelForCausalLM"
   ]
  },
  {
   "cell_type": "code",
   "execution_count": 2,
   "id": "b4ba8224-665c-4b9b-aedd-0c25f561b8f7",
   "metadata": {},
   "outputs": [
    {
     "data": {
      "text/plain": [
       "True"
      ]
     },
     "execution_count": 2,
     "metadata": {},
     "output_type": "execute_result"
    }
   ],
   "source": [
    "torch.cuda.is_available()"
   ]
  },
  {
   "cell_type": "code",
   "execution_count": 3,
   "id": "e9badc89-eaf0-4248-946c-90fee0dbeca7",
   "metadata": {},
   "outputs": [],
   "source": [
    "# !export PYTORCH_CUDA_ALLOC_CONF='expandable_segments:True,max_split_size_mb=1024'"
   ]
  },
  {
   "cell_type": "code",
   "execution_count": 5,
   "id": "0e98654b",
   "metadata": {},
   "outputs": [],
   "source": [
    "path = \"/notebooks/fsdp_qlora/models\"\n",
    "\n",
    "repo = \"redis\"\n",
    "model_name = f\"CodeLlama-13b-Instruct-{repo}-QLoRA-3\"\n",
    "file_path = f\"{path}/{model_name}_predictions.csv\""
   ]
  },
  {
   "cell_type": "code",
   "execution_count": 6,
   "id": "e6a67fbb",
   "metadata": {},
   "outputs": [
    {
     "name": "stdout",
     "output_type": "stream",
     "text": [
      "Device 0: NVIDIA GeForce RTX 4090\n",
      "Device 1: NVIDIA GeForce RTX 4090\n"
     ]
    }
   ],
   "source": [
    "for i in range(torch.cuda.device_count()):\n",
    "    device_name = torch.cuda.get_device_name(i)\n",
    "    print(f\"Device {i}: {device_name}\")"
   ]
  },
  {
   "cell_type": "code",
   "execution_count": null,
   "id": "76e7372a",
   "metadata": {},
   "outputs": [],
   "source": [
    "BENCH = \"/streamlit_app\"\n",
    "versions = [v for v in os.listdir(BENCH) if v.startswith(\"bench-v\") and os.path.isdir(f\"{BENCH}/{v}\")]"
   ]
  },
  {
   "cell_type": "code",
   "execution_count": 8,
   "id": "64aba504",
   "metadata": {},
   "outputs": [],
   "source": [
    "with open(\"/bench/bench-v0.6.json\", 'r') as f:\n",
    "    ben_json = json.load(f)\n",
    "\n",
    "\n",
    "def extract_signature(row):\n",
    "    code = ben_json[row['Unnamed: 0']]['code']\n",
    "    signature = code.split('{')[0]\n",
    "    return re.sub(f\"[\\r\\n\\t]+\", \"\", signature)\n",
    "\n",
    "\n",
    "# def generate_prompt(row):\n",
    "#     lang = \"C++\"\n",
    "#     if row['repository'] == \"openssl\" or row['repository'] == \"redis\":\n",
    "#         lang = 'C'\n",
    "#     system = f\"Generate a single function on {lang} programming language satisfying the following signature and description. Please, do not add any comments or any text other than code for this function. Do not add includes, parent class or other methods.\"\n",
    "#     user = f\"Function signature: {extract_signature(row)}. Function description: {row['doc']}.\"\n",
    "#     prompt = f\"<s>[INST] <<SYS>> {system} \\n <</SYS>>\\n{user} [/INST]\"\n",
    "#     return prompt\n",
    "\n",
    "\n",
    "def generate_prompt(row):\n",
    "    lang = \"C++\"\n",
    "    if row[\"repository\"] in [\"openssl\", \"redis\"]:\n",
    "        lang = \"C\"\n",
    "    function_description = row[\"doc\"]\n",
    "    system_message = {\n",
    "        \"role\": \"system\",\n",
    "        \"content\": f\"Generate code on {lang}:\\n\",\n",
    "        # \"content\": f\"\\nGenerate a function on {lang} programming language.\\n\",\n",
    "        # \"content\": f\"You're a specialized AI assisting with generating function code on {lang}. You are very good at generating code.\",\n",
    "        # \"content\": f\"\\nGenerate a single function on {lang} programming language satisfying the following signature and description. Please, do not add any comments or any text other than code for this function. Do not add includes, parent class or other methods.\",\n",
    "    }\n",
    "    prompt = {\n",
    "        \"role\": \"user\",\n",
    "        \"content\": f'Function signature: {extract_signature(row)}. Function description: {function_description}.',\n",
    "    }\n",
    "    return [system_message, prompt]"
   ]
  },
  {
   "cell_type": "code",
   "execution_count": 9,
   "id": "97bdfc53",
   "metadata": {},
   "outputs": [
    {
     "data": {
      "application/vnd.jupyter.widget-view+json": {
       "model_id": "508426169b3743818db26b1f15d61eb5",
       "version_major": 2,
       "version_minor": 0
      },
      "text/plain": [
       "Loading checkpoint shards:   0%|          | 0/3 [00:00<?, ?it/s]"
      ]
     },
     "metadata": {},
     "output_type": "display_data"
    }
   ],
   "source": [
    "import torch\n",
    "\n",
    "from peft import get_peft_config, get_peft_model, LoraConfig, TaskType\n",
    "from safetensors import safe_open\n",
    "from transformers import LlamaForCausalLM, BitsAndBytesConfig, GenerationConfig\n",
    "\n",
    "\n",
    "bnb_config = BitsAndBytesConfig(\n",
    "    load_in_4bit=True,\n",
    "    bnb_4bit_quant_type=\"nf4\",\n",
    "    bnb_4bit_use_double_quant=False,\n",
    "    bnb_4bit_compute_dtype=torch.float16,\n",
    ")\n",
    "model = LlamaForCausalLM.from_pretrained(\n",
    "    \"codellama/CodeLlama-13b-Instruct-hf\",\n",
    "    quantization_config=bnb_config,\n",
    "    # attn_implementation=\"flash_attention_2\",\n",
    "    device_map=\"auto\",\n",
    "    resume_download=None,\n",
    ")\n",
    "tokenizer = AutoTokenizer.from_pretrained(\"codellama/CodeLlama-13b-Instruct-hf\", resume_download=None)\n",
    "if tokenizer.pad_token is None:\n",
    "    tokenizer.pad_token = tokenizer.eos_token\n",
    "\n",
    "for param in model.parameters():\n",
    "    param.requires_grad = False"
   ]
  },
  {
   "cell_type": "code",
   "execution_count": 10,
   "id": "b72b5b9e",
   "metadata": {},
   "outputs": [],
   "source": [
    "if any(x in model_name.lower() for x in [\"hqq\", \"bnb\", \"qlora\", \"qdora\"]):\n",
    "    tensors = {}\n",
    "    with safe_open(f'{path}/{model_name}/model_state_dict.safetensors', framework=\"pt\") as f:\n",
    "        for k in f.keys():\n",
    "            tensors[k] = f.get_tensor(k)\n",
    "    \n",
    "    # Add LoRA (make sure your rank (r) and alpha (lora_alpha) values match those used in training!)\n",
    "    peft_config = LoraConfig(\n",
    "        task_type=TaskType.CAUSAL_LM, inference_mode=False, r=64, lora_alpha=16, lora_dropout=0.1,\n",
    "        target_modules=[\"k_proj\", \"q_proj\", \"v_proj\", \"up_proj\", \"down_proj\", \"gate_proj\"]\n",
    "    )\n",
    "    model = get_peft_model(model, peft_config)\n",
    "    \n",
    "    new_sd = model.state_dict()\n",
    "    for k in new_sd:\n",
    "        if (\"qlora\" in model_name.lower() and 'lora' in k) or (\"qdora\" in model_name.lower() and k in tensors):\n",
    "            new_sd[k] = tensors[k]\n",
    "    \n",
    "    model.load_state_dict(new_sd)"
   ]
  },
  {
   "cell_type": "code",
   "execution_count": 11,
   "id": "6f4104b7",
   "metadata": {},
   "outputs": [
    {
     "name": "stdout",
     "output_type": "stream",
     "text": [
      "Memory footprint: 8.23 GB\n",
      "Number of parameters: 13.24 B\n"
     ]
    }
   ],
   "source": [
    "print(f\"Memory footprint: {model.get_memory_footprint() / 1e9:.2f} GB\")\n",
    "print(f\"Number of parameters: {model.num_parameters() / 1e9:.2f} B\")"
   ]
  },
  {
   "cell_type": "code",
   "execution_count": 12,
   "id": "f88b5268",
   "metadata": {},
   "outputs": [],
   "source": [
    "generation_config = GenerationConfig(\n",
    "    max_new_tokens=384,\n",
    "    do_sample=False,\n",
    "    num_beams=10,\n",
    "    num_beam_groups=10,\n",
    "    diversity_penalty=1.0,\n",
    "    num_return_sequences=10,\n",
    "    # top_k=10,\n",
    "    # top_p=0.95,\n",
    "    # temperature=0.8,\n",
    "    eos_token_id=tokenizer.eos_token_id,\n",
    "    pad_token_id=tokenizer.pad_token_id,\n",
    ")"
   ]
  },
  {
   "cell_type": "code",
   "execution_count": 13,
   "id": "dd3d816e",
   "metadata": {},
   "outputs": [],
   "source": [
    "def inference(sample):\n",
    "    prompt = generate_prompt(sample)\n",
    "    inputs = tokenizer.apply_chat_template(\n",
    "        prompt,\n",
    "        add_generation_prompt=True,\n",
    "        return_tensors=\"pt\",\n",
    "    ).to(model.device)\n",
    "\n",
    "    outputs = model.generate(\n",
    "        inputs,\n",
    "        generation_config=generation_config,\n",
    "    )\n",
    "    return [\n",
    "        tokenizer.decode(\n",
    "            output[len(inputs[0]) :],\n",
    "            skip_special_tokens=True,\n",
    "        ).strip()\n",
    "        for output in outputs\n",
    "    ]"
   ]
  },
  {
   "cell_type": "code",
   "execution_count": 14,
   "id": "d5682e7c",
   "metadata": {
    "slideshow": {
     "slide_type": ""
    },
    "tags": []
   },
   "outputs": [],
   "source": [
    "def save_predictions(candidates):\n",
    "    df_to_save = pd.DataFrame.from_dict(\n",
    "        candidates,\n",
    "        orient='index',\n",
    "        columns=[f'{i}' for i in range(generation_config.num_return_sequences)]\n",
    "    )\n",
    "    df_to_save.to_csv(file_path)\n",
    "\n",
    "\n",
    "def load_predictions():\n",
    "    if not os.path.isfile(file_path):\n",
    "        return {}\n",
    "\n",
    "    df = pd.read_csv(file_path)\n",
    "    candidates = {}\n",
    "    for _, row in df.iterrows():\n",
    "        candidates[row[\"Unnamed: 0\"]] = [row[f\"{i}\"] for i in range(10)]\n",
    "    return candidates"
   ]
  },
  {
   "cell_type": "code",
   "execution_count": 15,
   "id": "90bf721a-259d-4ed8-8606-dd3720057a26",
   "metadata": {},
   "outputs": [
    {
     "name": "stdout",
     "output_type": "stream",
     "text": [
      "2024-05-30 18:49:08.649151\n"
     ]
    }
   ],
   "source": [
    "print(datetime.now())"
   ]
  },
  {
   "cell_type": "code",
   "execution_count": null,
   "id": "3944ba32",
   "metadata": {},
   "outputs": [
    {
     "data": {
      "application/vnd.jupyter.widget-view+json": {
       "model_id": "ffd8fd388e27493c9933959c97cb3822",
       "version_major": 2,
       "version_minor": 0
      },
      "text/plain": [
       "  0%|          | 0/214 [00:00<?, ?it/s]"
      ]
     },
     "metadata": {},
     "output_type": "display_data"
    }
   ],
   "source": [
    "import pandas as pd\n",
    "from tqdm.notebook import tqdm\n",
    "\n",
    "df = pd.read_csv('/bench/bench-v0.6.1.csv')\n",
    "code = []\n",
    "\n",
    "candidates = {} if debug else load_predictions()\n",
    "for index, row in tqdm(df.iterrows(), total=len(df)):\n",
    "    if row[\"Unnamed: 0\"] in candidates:\n",
    "        continue\n",
    "\n",
    "    if debug:\n",
    "        prompt = generate_prompt(row)\n",
    "        print(tokenizer.apply_chat_template(\n",
    "            prompt,\n",
    "            add_generation_prompt=True,\n",
    "            tokenize=False,\n",
    "        ))\n",
    "        r = inference(row)\n",
    "        for i in range(5):\n",
    "            print(r[i])\n",
    "            print(\"---------------------------------------------------------------------------------------------------------------------------------------------\")\n",
    "        break\n",
    "    else:\n",
    "        candidates[row[\"Unnamed: 0\"]] = inference(row)\n",
    "\n",
    "if not debug:\n",
    "    save_predictions(candidates)"
   ]
  },
  {
   "cell_type": "code",
   "execution_count": null,
   "id": "129cd5a5-fa8b-45a2-b407-3bd875c56bc9",
   "metadata": {},
   "outputs": [],
   "source": [
    "print(datetime.now())"
   ]
  },
  {
   "cell_type": "code",
   "execution_count": null,
   "id": "4b2d9110",
   "metadata": {},
   "outputs": [],
   "source": [
    "len(candidates.keys())"
   ]
  },
  {
   "cell_type": "code",
   "execution_count": 17,
   "id": "35745a1a",
   "metadata": {
    "scrolled": true
   },
   "outputs": [
    {
     "name": "stdout",
     "output_type": "stream",
     "text": [
      "```\n",
      "SIMD_FORCE_INLINE void internalApplyImpulse(const btVector3& linearComponent, const btVector3& angularComponent, const btScalar impulseMagnitude) {\n",
      "    // Calculate the impulse magnitude\n",
      "    btScalar impulse = impulseMagnitude * (1.0f / (1.0f + linearComponent.lengthSquared()));\n",
      "\n",
      "    // Calculate the linear impulse\n",
      "    btVector3 linearImpulse = linearComponent * impulse;\n",
      "\n",
      "    // Calculate the angular impulse\n",
      "    btVector3 angularImpulse = angularComponent * impulse;\n",
      "\n",
      "    // Apply the impulse\n",
      "    body->applyImpulse(linearImpulse, angularImpulse);\n",
      "}\n",
      "```\n",
      "This function takes in three parameters:\n",
      "\n",
      "* `linearComponent`: The linear component of the impulse.\n",
      "* `angularComponent`: The angular component of the impulse.\n",
      "* `impulseMagnitude`: The magnitude of the impulse.\n",
      "\n",
      "The function first calculates the impulse magnitude by dividing the given impulse magnitude by the length squared of the linear component. This is done to ensure that the impulse magnitude is normalized.\n",
      "\n",
      "Next, the function calculates the linear impulse by multiplying the linear component by the impulse magnitude.\n",
      "\n",
      "Then, the function calculates the angular impulse by multiplying the angular component by the impulse magnitude.\n",
      "\n",
      "Finally, the function applies the impulse to the body using the `applyImpulse` method. The linear impulse is applied to the body's linear velocity, and the angular impulse is applied to the body's angular velocity.\n",
      "\n",
      "Note that this function is marked as `SIMD_FORCE\n",
      "---------------------------------------------------------------------------------------------------------------------------------------------\n",
      "Here is the C++ code for the `internalApplyImpulse` function:\n",
      "```\n",
      "SIMD_FORCE_INLINE void internalApplyImpulse(const btVector3& linearComponent, const btVector3& angularComponent, const btScalar impulseMagnitude) {\n",
      "  // Calculate the impulse magnitude\n",
      "  btScalar impulse = impulseMagnitude * (1.0f / (1.0f + linearComponent.lengthSquared() + angularComponent.lengthSquared()));\n",
      "\n",
      "  // Apply the impulse to the linear and angular components\n",
      "  linearComponent *= impulse;\n",
      "  angularComponent *= impulse;\n",
      "}\n",
      "```\n",
      "This function takes three arguments: `linearComponent`, `angularComponent`, and `impulseMagnitude`. It calculates the impulse magnitude based on the length of the linear and angular components, and then applies the impulse to the linear and angular components.\n",
      "\n",
      "The `SIMD_FORCE_INLINE` macro is used to indicate that the function should be inlined, which can improve performance by avoiding the overhead of function calls.\n",
      "\n",
      "The `btVector3` class is used to represent the linear and angular components of the impulse, and the `btScalar` class is used to represent the impulse magnitude.\n",
      "\n",
      "The function first calculates the impulse magnitude by dividing the impulse magnitude by the sum of the squares of the linear and angular components. This is done to ensure that the impulse magnitude is normalized, so that it can be applied to the linear and angular components without affecting their magnitudes.\n",
      "\n",
      "Next, the function applies the impulse to the linear and angular components by multiplying them by the impulse magnitude. This is done using the\n",
      "---------------------------------------------------------------------------------------------------------------------------------------------\n",
      "```\n",
      "#include <btBulletDynamicsCommon.h>\n",
      "\n",
      "SIMD_FORCE_INLINE void internalApplyImpulse(const btVector3& linearComponent, const btVector3& angularComponent, const btScalar impulseMagnitude) {\n",
      "    // Calculate the impulse magnitude\n",
      "    btScalar impulse = impulseMagnitude * (linearComponent.length() + angularComponent.length());\n",
      "\n",
      "    // Apply the impulse to the linear and angular components\n",
      "    linearComponent.normalize();\n",
      "    linearComponent *= impulse;\n",
      "    angularComponent.normalize();\n",
      "    angularComponent *= impulse;\n",
      "}\n",
      "```\n",
      "This function takes in three parameters: `linearComponent`, `angularComponent`, and `impulseMagnitude`. It then calculates the impulse magnitude by multiplying the `impulseMagnitude` by the length of the `linearComponent` and `angularComponent` vectors.\n",
      "\n",
      "The function then applies the impulse to the `linearComponent` and `angularComponent` vectors by normalizing them and multiplying them by the impulse magnitude.\n",
      "\n",
      "Note that this function is marked with the `SIMD_FORCE_INLINE` macro, which tells the compiler to inline the function and optimize it for SIMD instructions. This is necessary because the function is called many times in the iterative solver and needs to be optimized for performance.\n",
      "---------------------------------------------------------------------------------------------------------------------------------------------\n",
      "```c++\n",
      "SIMD_FORCE_INLINE void internalApplyImpulse(const btVector3& linearComponent, const btVector3& angularComponent, const btScalar impulseMagnitude) {\n",
      "    // Calculate the impulse magnitude\n",
      "    btScalar impulse = impulseMagnitude * (1.0f / (1.0f + linearComponent.lengthSquared()));\n",
      "\n",
      "    // Calculate the linear impulse\n",
      "    btVector3 linearImpulse = linearComponent * impulse;\n",
      "\n",
      "    // Calculate the angular impulse\n",
      "    btVector3 angularImpulse = angularComponent * impulse;\n",
      "\n",
      "    // Apply the impulse\n",
      "    body->applyImpulse(linearImpulse, angularImpulse);\n",
      "}\n",
      "```\n",
      "This function takes in three parameters:\n",
      "\n",
      "* `linearComponent`: The linear component of the impulse.\n",
      "* `angularComponent`: The angular component of the impulse.\n",
      "* `impulseMagnitude`: The magnitude of the impulse.\n",
      "\n",
      "The function first calculates the impulse magnitude by dividing the given impulse magnitude by the length squared of the linear component. This is done to ensure that the impulse magnitude is normalized.\n",
      "\n",
      "Next, the function calculates the linear impulse by multiplying the linear component by the impulse magnitude.\n",
      "\n",
      "Then, the function calculates the angular impulse by multiplying the angular component by the impulse magnitude.\n",
      "\n",
      "Finally, the function applies the impulse to the body using the `applyImpulse` method. The linear impulse is applied to the body's linear velocity, and the angular impulse is applied to the body's angular velocity.\n",
      "\n",
      "Note that this function is marked as `SIMD_\n",
      "---------------------------------------------------------------------------------------------------------------------------------------------\n",
      "Here is an example of how you could implement the `internalApplyImpulse` function in C++:\n",
      "```\n",
      "void internalApplyImpulse(const btVector3& linearComponent, const btVector3& angularComponent, const btScalar impulseMagnitude) {\n",
      "  // Calculate the impulse magnitude\n",
      "  btScalar impulse = impulseMagnitude * (linearComponent.length() + angularComponent.length());\n",
      "\n",
      "  // Apply the impulse to the object\n",
      "  object->applyImpulse(linearComponent, angularComponent, impulse);\n",
      "}\n",
      "```\n",
      "This function takes three arguments: `linearComponent`, `angularComponent`, and `impulseMagnitude`. It first calculates the impulse magnitude by multiplying the length of the linear and angular components by the impulse magnitude. Then, it applies the impulse to the object using the `applyImpulse` function.\n",
      "\n",
      "Note that this function is marked as `SIMD_FORCE_INLINE`, which means that the compiler is allowed to inline the function and optimize it for SIMD instructions. This can improve performance by avoiding the overhead of function calls and allowing the compiler to better optimize the code.\n",
      "---------------------------------------------------------------------------------------------------------------------------------------------\n",
      "Sure, here is the C++ code for the function `internalApplyImpulse`:\n",
      "```\n",
      "void internalApplyImpulse(const btVector3& linearComponent, const btVector3& angularComponent, const btScalar impulseMagnitude) {\n",
      "  // Calculate the impulse magnitude\n",
      "  btScalar impulse = impulseMagnitude * (1.0f / (1.0f + linearComponent.lengthSquared() + angularComponent.lengthSquared()));\n",
      "\n",
      "  // Apply the impulse to the linear and angular components\n",
      "  linearComponent.normalize();\n",
      "  angularComponent.normalize();\n",
      "  linearComponent *= impulse;\n",
      "  angularComponent *= impulse;\n",
      "\n",
      "  // Update the velocity and angular velocity of the rigid body\n",
      "  btVector3 velocity = linearComponent + angularComponent;\n",
      "  btVector3 angularVelocity = angularComponent;\n",
      "  velocity += impulse * (1.0f / (1.0f + linearComponent.lengthSquared() + angularComponent.lengthSquared()));\n",
      "  angularVelocity += impulse * (1.0f / (1.0f + linearComponent.lengthSquared() + angularComponent.lengthSquared()));\n",
      "\n",
      "  // Update the position and orientation of the rigid body\n",
      "  btVector3 position = linearComponent + angularComponent;\n",
      "  btQuaternion orientation = angularComponent;\n",
      "  position += impulse * (1.0f / (1.0f + linearComponent.lengthSquared() + angularComponent.lengthSquared()));\n",
      "  orientation += impulse * (1.0f / (1.0f + linearComponent.lengthSquared() + angular\n",
      "---------------------------------------------------------------------------------------------------------------------------------------------\n",
      "Here's the C++ code for the `internalApplyImpulse` function:\n",
      "```\n",
      "SIMD_FORCE_INLINE void internalApplyImpulse(const btVector3& linearComponent, const btVector3& angularComponent, const btScalar impulseMagnitude) {\n",
      "  // Calculate the impulse magnitude\n",
      "  btScalar impulse = impulseMagnitude * (1.0f / (1.0f + linearComponent.lengthSquared() + angularComponent.lengthSquared()));\n",
      "\n",
      "  // Apply the impulse to the linear and angular components\n",
      "  linearComponent *= impulse;\n",
      "  angularComponent *= impulse;\n",
      "}\n",
      "```\n",
      "This function takes in three parameters:\n",
      "\n",
      "* `linearComponent`: The linear component of the impulse.\n",
      "* `angularComponent`: The angular component of the impulse.\n",
      "* `impulseMagnitude`: The magnitude of the impulse.\n",
      "\n",
      "The function first calculates the impulse magnitude by dividing the given impulse magnitude by the sum of the squares of the linear and angular components. This is done to ensure that the impulse magnitude is normalized.\n",
      "\n",
      "Next, the function applies the impulse to the linear and angular components by multiplying them by the impulse magnitude.\n",
      "\n",
      "Note that this function is marked as `SIMD_FORCE_INLINE`, which means that the compiler is allowed to inline the function, which can improve performance by avoiding the overhead of function calls.\n",
      "\n",
      "Also, note that this function is not marked as `const`, which means that it can modify the linear and angular components of the impulse. If you want to make the function `const`, you can add the `const` keyword to the function signature, like this:\n",
      "---------------------------------------------------------------------------------------------------------------------------------------------\n",
      "```\n",
      "SIMD_FORCE_INLINE void internalApplyImpulse(const btVector3& linearComponent, const btVector3& angularComponent, const btScalar impulseMagnitude)\n",
      "{\n",
      "    // Calculate the impulse magnitude\n",
      "    btScalar impulse = impulseMagnitude * (1.0f / (1.0f + linearComponent.lengthSquared()));\n",
      "\n",
      "    // Calculate the linear impulse\n",
      "    btVector3 linearImpulse = linearComponent * impulse;\n",
      "\n",
      "    // Calculate the angular impulse\n",
      "    btVector3 angularImpulse = angularComponent * impulse;\n",
      "\n",
      "    // Apply the impulse\n",
      "    body->applyImpulse(linearImpulse, angularImpulse);\n",
      "}\n",
      "```\n",
      "This function takes in three parameters: `linearComponent`, `angularComponent`, and `impulseMagnitude`. It then calculates the impulse magnitude based on the length of the linear component and the impulse magnitude. It then calculates the linear and angular impulses based on the components and the impulse magnitude. Finally, it applies the impulse to the body using the `applyImpulse` function.\n",
      "\n",
      "Note that this function is marked as `SIMD_FORCE_INLINE`, which means that the compiler is allowed to inline the function, which can improve performance by avoiding the overhead of function calls.\n",
      "---------------------------------------------------------------------------------------------------------------------------------------------\n",
      "```\n",
      "void internalApplyImpulse(const btVector3& linearComponent, const btVector3& angularComponent, const btScalar impulseMagnitude) {\n",
      "    // Calculate the impulse magnitude and direction\n",
      "    btVector3 impulse = linearComponent * impulseMagnitude;\n",
      "    btVector3 angularImpulse = angularComponent * impulseMagnitude;\n",
      "\n",
      "    // Apply the impulse to the rigid body\n",
      "    m_rigidBody->applyImpulse(impulse, m_rigidBody->getPosition());\n",
      "    m_rigidBody->applyTorqueImpulse(angularImpulse, m_rigidBody->getPosition());\n",
      "}\n",
      "```\n",
      "This function takes in three parameters: `linearComponent`, `angularComponent`, and `impulseMagnitude`. It then calculates the impulse magnitude and direction based on these parameters and applies it to the rigid body using the `applyImpulse` and `applyTorqueImpulse` methods.\n",
      "\n",
      "Note that this function is marked as `SIMD_FORCE_INLINE` which means that it should be inlined by the compiler, which can improve performance by avoiding function call overhead.\n",
      "\n",
      "Also, note that this function is a member function of a class that represents a rigid body, so it has access to the `m_rigidBody` member variable, which is a pointer to the rigid body object.\n",
      "\n",
      "I hope this helps! Let me know if you have any questions or need further clarification.\n",
      "---------------------------------------------------------------------------------------------------------------------------------------------\n",
      "SIMD_FORCE_INLINE void internalApplyImpulse(const btVector3& linearComponent, const btVector3& angularComponent, const btScalar impulseMagnitude) {\n",
      "\t// Calculate the impulse magnitude\n",
      "\tbtScalar impulse = impulseMagnitude * (1.0f / (1.0f + linearComponent.lengthSquared()));\n",
      "\n",
      "\t// Calculate the linear impulse\n",
      "\tbtVector3 linearImpulse = linearComponent * impulse;\n",
      "\n",
      "\t// Calculate the angular impulse\n",
      "\tbtVector3 angularImpulse = angularComponent * impulse;\n",
      "\n",
      "\t// Apply the impulse\n",
      "\tapplyImpulse(linearImpulse, angularImpulse);\n",
      "}\n",
      "\n",
      "This function takes in three parameters: `linearComponent`, `angularComponent`, and `impulseMagnitude`. It then calculates the impulse magnitude based on the given parameters, and applies the impulse to the object using the `applyImpulse` function.\n",
      "\n",
      "The optimization for the iterative solver is to avoid calculating constant terms involving inertia, normal, and relative position, which are not affected by the impulse magnitude. By pre-calculating these terms and storing them in the `linearComponent` and `angularComponent` parameters, we can avoid recalculating them for each iteration of the solver. This can significantly improve performance for large simulations.\n",
      "---------------------------------------------------------------------------------------------------------------------------------------------\n"
     ]
    }
   ],
   "source": [
    "k = \"79D9B4DB619F85EB\" # list(candidates)[0]\n",
    "for i in range(10):\n",
    "    print(candidates[k][i])\n",
    "    print(\"---------------------------------------------------------------------------------------------------------------------------------------------\")"
   ]
  },
  {
   "cell_type": "code",
   "execution_count": 17,
   "id": "e20cd134-c580-411d-970b-026a26472c6b",
   "metadata": {},
   "outputs": [],
   "source": [
    "save_predictions(candidates)"
   ]
  }
 ],
 "metadata": {
  "kernelspec": {
   "display_name": "Python 3 (ipykernel)",
   "language": "python",
   "name": "python3"
  },
  "language_info": {
   "codemirror_mode": {
    "name": "ipython",
    "version": 3
   },
   "file_extension": ".py",
   "mimetype": "text/x-python",
   "name": "python",
   "nbconvert_exporter": "python",
   "pygments_lexer": "ipython3",
   "version": "3.11.5"
  }
 },
 "nbformat": 4,
 "nbformat_minor": 5
}
